{
 "cells": [
  {
   "cell_type": "code",
   "execution_count": 106,
   "metadata": {},
   "outputs": [],
   "source": [
    "import pandas as pd\n",
    "import numpy as np\n",
    "import matplotlib.pyplot as plt"
   ]
  },
  {
   "cell_type": "code",
   "execution_count": 107,
   "metadata": {},
   "outputs": [
    {
     "name": "stderr",
     "output_type": "stream",
     "text": [
      "C:\\Users\\anilkrishna\\Anaconda3\\lib\\site-packages\\IPython\\core\\interactiveshell.py:3058: DtypeWarning: Columns (7,8) have mixed types. Specify dtype option on import or set low_memory=False.\n",
      "  interactivity=interactivity, compiler=compiler, result=result)\n"
     ]
    },
    {
     "data": {
      "text/html": [
       "<div>\n",
       "<style scoped>\n",
       "    .dataframe tbody tr th:only-of-type {\n",
       "        vertical-align: middle;\n",
       "    }\n",
       "\n",
       "    .dataframe tbody tr th {\n",
       "        vertical-align: top;\n",
       "    }\n",
       "\n",
       "    .dataframe thead th {\n",
       "        text-align: right;\n",
       "    }\n",
       "</style>\n",
       "<table border=\"1\" class=\"dataframe\">\n",
       "  <thead>\n",
       "    <tr style=\"text-align: right;\">\n",
       "      <th></th>\n",
       "      <th>YEAR</th>\n",
       "      <th>MONTH</th>\n",
       "      <th>DAY</th>\n",
       "      <th>DAY_OF_WEEK</th>\n",
       "      <th>AIRLINE</th>\n",
       "      <th>FLIGHT_NUMBER</th>\n",
       "      <th>TAIL_NUMBER</th>\n",
       "      <th>ORIGIN_AIRPORT</th>\n",
       "      <th>DESTINATION_AIRPORT</th>\n",
       "      <th>SCHEDULED_DEPARTURE</th>\n",
       "      <th>...</th>\n",
       "      <th>ARRIVAL_TIME</th>\n",
       "      <th>ARRIVAL_DELAY</th>\n",
       "      <th>DIVERTED</th>\n",
       "      <th>CANCELLED</th>\n",
       "      <th>CANCELLATION_REASON</th>\n",
       "      <th>AIR_SYSTEM_DELAY</th>\n",
       "      <th>SECURITY_DELAY</th>\n",
       "      <th>AIRLINE_DELAY</th>\n",
       "      <th>LATE_AIRCRAFT_DELAY</th>\n",
       "      <th>WEATHER_DELAY</th>\n",
       "    </tr>\n",
       "  </thead>\n",
       "  <tbody>\n",
       "    <tr>\n",
       "      <td>0</td>\n",
       "      <td>2015</td>\n",
       "      <td>1</td>\n",
       "      <td>1</td>\n",
       "      <td>4</td>\n",
       "      <td>AS</td>\n",
       "      <td>98</td>\n",
       "      <td>N407AS</td>\n",
       "      <td>ANC</td>\n",
       "      <td>SEA</td>\n",
       "      <td>5</td>\n",
       "      <td>...</td>\n",
       "      <td>408.0</td>\n",
       "      <td>-22.0</td>\n",
       "      <td>0</td>\n",
       "      <td>0</td>\n",
       "      <td>NaN</td>\n",
       "      <td>NaN</td>\n",
       "      <td>NaN</td>\n",
       "      <td>NaN</td>\n",
       "      <td>NaN</td>\n",
       "      <td>NaN</td>\n",
       "    </tr>\n",
       "    <tr>\n",
       "      <td>1</td>\n",
       "      <td>2015</td>\n",
       "      <td>1</td>\n",
       "      <td>1</td>\n",
       "      <td>4</td>\n",
       "      <td>AA</td>\n",
       "      <td>2336</td>\n",
       "      <td>N3KUAA</td>\n",
       "      <td>LAX</td>\n",
       "      <td>PBI</td>\n",
       "      <td>10</td>\n",
       "      <td>...</td>\n",
       "      <td>741.0</td>\n",
       "      <td>-9.0</td>\n",
       "      <td>0</td>\n",
       "      <td>0</td>\n",
       "      <td>NaN</td>\n",
       "      <td>NaN</td>\n",
       "      <td>NaN</td>\n",
       "      <td>NaN</td>\n",
       "      <td>NaN</td>\n",
       "      <td>NaN</td>\n",
       "    </tr>\n",
       "    <tr>\n",
       "      <td>2</td>\n",
       "      <td>2015</td>\n",
       "      <td>1</td>\n",
       "      <td>1</td>\n",
       "      <td>4</td>\n",
       "      <td>US</td>\n",
       "      <td>840</td>\n",
       "      <td>N171US</td>\n",
       "      <td>SFO</td>\n",
       "      <td>CLT</td>\n",
       "      <td>20</td>\n",
       "      <td>...</td>\n",
       "      <td>811.0</td>\n",
       "      <td>5.0</td>\n",
       "      <td>0</td>\n",
       "      <td>0</td>\n",
       "      <td>NaN</td>\n",
       "      <td>NaN</td>\n",
       "      <td>NaN</td>\n",
       "      <td>NaN</td>\n",
       "      <td>NaN</td>\n",
       "      <td>NaN</td>\n",
       "    </tr>\n",
       "    <tr>\n",
       "      <td>3</td>\n",
       "      <td>2015</td>\n",
       "      <td>1</td>\n",
       "      <td>1</td>\n",
       "      <td>4</td>\n",
       "      <td>AA</td>\n",
       "      <td>258</td>\n",
       "      <td>N3HYAA</td>\n",
       "      <td>LAX</td>\n",
       "      <td>MIA</td>\n",
       "      <td>20</td>\n",
       "      <td>...</td>\n",
       "      <td>756.0</td>\n",
       "      <td>-9.0</td>\n",
       "      <td>0</td>\n",
       "      <td>0</td>\n",
       "      <td>NaN</td>\n",
       "      <td>NaN</td>\n",
       "      <td>NaN</td>\n",
       "      <td>NaN</td>\n",
       "      <td>NaN</td>\n",
       "      <td>NaN</td>\n",
       "    </tr>\n",
       "    <tr>\n",
       "      <td>4</td>\n",
       "      <td>2015</td>\n",
       "      <td>1</td>\n",
       "      <td>1</td>\n",
       "      <td>4</td>\n",
       "      <td>AS</td>\n",
       "      <td>135</td>\n",
       "      <td>N527AS</td>\n",
       "      <td>SEA</td>\n",
       "      <td>ANC</td>\n",
       "      <td>25</td>\n",
       "      <td>...</td>\n",
       "      <td>259.0</td>\n",
       "      <td>-21.0</td>\n",
       "      <td>0</td>\n",
       "      <td>0</td>\n",
       "      <td>NaN</td>\n",
       "      <td>NaN</td>\n",
       "      <td>NaN</td>\n",
       "      <td>NaN</td>\n",
       "      <td>NaN</td>\n",
       "      <td>NaN</td>\n",
       "    </tr>\n",
       "    <tr>\n",
       "      <td>...</td>\n",
       "      <td>...</td>\n",
       "      <td>...</td>\n",
       "      <td>...</td>\n",
       "      <td>...</td>\n",
       "      <td>...</td>\n",
       "      <td>...</td>\n",
       "      <td>...</td>\n",
       "      <td>...</td>\n",
       "      <td>...</td>\n",
       "      <td>...</td>\n",
       "      <td>...</td>\n",
       "      <td>...</td>\n",
       "      <td>...</td>\n",
       "      <td>...</td>\n",
       "      <td>...</td>\n",
       "      <td>...</td>\n",
       "      <td>...</td>\n",
       "      <td>...</td>\n",
       "      <td>...</td>\n",
       "      <td>...</td>\n",
       "      <td>...</td>\n",
       "    </tr>\n",
       "    <tr>\n",
       "      <td>95</td>\n",
       "      <td>2015</td>\n",
       "      <td>1</td>\n",
       "      <td>1</td>\n",
       "      <td>4</td>\n",
       "      <td>B6</td>\n",
       "      <td>2001</td>\n",
       "      <td>N358JB</td>\n",
       "      <td>BUF</td>\n",
       "      <td>JFK</td>\n",
       "      <td>535</td>\n",
       "      <td>...</td>\n",
       "      <td>648.0</td>\n",
       "      <td>-15.0</td>\n",
       "      <td>0</td>\n",
       "      <td>0</td>\n",
       "      <td>NaN</td>\n",
       "      <td>NaN</td>\n",
       "      <td>NaN</td>\n",
       "      <td>NaN</td>\n",
       "      <td>NaN</td>\n",
       "      <td>NaN</td>\n",
       "    </tr>\n",
       "    <tr>\n",
       "      <td>96</td>\n",
       "      <td>2015</td>\n",
       "      <td>1</td>\n",
       "      <td>1</td>\n",
       "      <td>4</td>\n",
       "      <td>B6</td>\n",
       "      <td>2807</td>\n",
       "      <td>N190JB</td>\n",
       "      <td>PWM</td>\n",
       "      <td>JFK</td>\n",
       "      <td>535</td>\n",
       "      <td>...</td>\n",
       "      <td>635.0</td>\n",
       "      <td>-25.0</td>\n",
       "      <td>0</td>\n",
       "      <td>0</td>\n",
       "      <td>NaN</td>\n",
       "      <td>NaN</td>\n",
       "      <td>NaN</td>\n",
       "      <td>NaN</td>\n",
       "      <td>NaN</td>\n",
       "      <td>NaN</td>\n",
       "    </tr>\n",
       "    <tr>\n",
       "      <td>97</td>\n",
       "      <td>2015</td>\n",
       "      <td>1</td>\n",
       "      <td>1</td>\n",
       "      <td>4</td>\n",
       "      <td>B6</td>\n",
       "      <td>2023</td>\n",
       "      <td>N324JB</td>\n",
       "      <td>JFK</td>\n",
       "      <td>SJU</td>\n",
       "      <td>535</td>\n",
       "      <td>...</td>\n",
       "      <td>1039.0</td>\n",
       "      <td>19.0</td>\n",
       "      <td>0</td>\n",
       "      <td>0</td>\n",
       "      <td>NaN</td>\n",
       "      <td>0.0</td>\n",
       "      <td>0.0</td>\n",
       "      <td>19.0</td>\n",
       "      <td>0.0</td>\n",
       "      <td>0.0</td>\n",
       "    </tr>\n",
       "    <tr>\n",
       "      <td>98</td>\n",
       "      <td>2015</td>\n",
       "      <td>1</td>\n",
       "      <td>1</td>\n",
       "      <td>4</td>\n",
       "      <td>EV</td>\n",
       "      <td>4557</td>\n",
       "      <td>N12967</td>\n",
       "      <td>CRP</td>\n",
       "      <td>IAH</td>\n",
       "      <td>535</td>\n",
       "      <td>...</td>\n",
       "      <td>615.0</td>\n",
       "      <td>-21.0</td>\n",
       "      <td>0</td>\n",
       "      <td>0</td>\n",
       "      <td>NaN</td>\n",
       "      <td>NaN</td>\n",
       "      <td>NaN</td>\n",
       "      <td>NaN</td>\n",
       "      <td>NaN</td>\n",
       "      <td>NaN</td>\n",
       "    </tr>\n",
       "    <tr>\n",
       "      <td>99</td>\n",
       "      <td>2015</td>\n",
       "      <td>1</td>\n",
       "      <td>1</td>\n",
       "      <td>4</td>\n",
       "      <td>EV</td>\n",
       "      <td>5241</td>\n",
       "      <td>N849AS</td>\n",
       "      <td>PIA</td>\n",
       "      <td>DTW</td>\n",
       "      <td>535</td>\n",
       "      <td>...</td>\n",
       "      <td>745.0</td>\n",
       "      <td>-18.0</td>\n",
       "      <td>0</td>\n",
       "      <td>0</td>\n",
       "      <td>NaN</td>\n",
       "      <td>NaN</td>\n",
       "      <td>NaN</td>\n",
       "      <td>NaN</td>\n",
       "      <td>NaN</td>\n",
       "      <td>NaN</td>\n",
       "    </tr>\n",
       "  </tbody>\n",
       "</table>\n",
       "<p>100 rows × 31 columns</p>\n",
       "</div>"
      ],
      "text/plain": [
       "    YEAR  MONTH  DAY  DAY_OF_WEEK AIRLINE  FLIGHT_NUMBER TAIL_NUMBER  \\\n",
       "0   2015      1    1            4      AS             98      N407AS   \n",
       "1   2015      1    1            4      AA           2336      N3KUAA   \n",
       "2   2015      1    1            4      US            840      N171US   \n",
       "3   2015      1    1            4      AA            258      N3HYAA   \n",
       "4   2015      1    1            4      AS            135      N527AS   \n",
       "..   ...    ...  ...          ...     ...            ...         ...   \n",
       "95  2015      1    1            4      B6           2001      N358JB   \n",
       "96  2015      1    1            4      B6           2807      N190JB   \n",
       "97  2015      1    1            4      B6           2023      N324JB   \n",
       "98  2015      1    1            4      EV           4557      N12967   \n",
       "99  2015      1    1            4      EV           5241      N849AS   \n",
       "\n",
       "   ORIGIN_AIRPORT DESTINATION_AIRPORT  SCHEDULED_DEPARTURE  ...  ARRIVAL_TIME  \\\n",
       "0             ANC                 SEA                    5  ...         408.0   \n",
       "1             LAX                 PBI                   10  ...         741.0   \n",
       "2             SFO                 CLT                   20  ...         811.0   \n",
       "3             LAX                 MIA                   20  ...         756.0   \n",
       "4             SEA                 ANC                   25  ...         259.0   \n",
       "..            ...                 ...                  ...  ...           ...   \n",
       "95            BUF                 JFK                  535  ...         648.0   \n",
       "96            PWM                 JFK                  535  ...         635.0   \n",
       "97            JFK                 SJU                  535  ...        1039.0   \n",
       "98            CRP                 IAH                  535  ...         615.0   \n",
       "99            PIA                 DTW                  535  ...         745.0   \n",
       "\n",
       "    ARRIVAL_DELAY  DIVERTED  CANCELLED  CANCELLATION_REASON  AIR_SYSTEM_DELAY  \\\n",
       "0           -22.0         0          0                  NaN               NaN   \n",
       "1            -9.0         0          0                  NaN               NaN   \n",
       "2             5.0         0          0                  NaN               NaN   \n",
       "3            -9.0         0          0                  NaN               NaN   \n",
       "4           -21.0         0          0                  NaN               NaN   \n",
       "..            ...       ...        ...                  ...               ...   \n",
       "95          -15.0         0          0                  NaN               NaN   \n",
       "96          -25.0         0          0                  NaN               NaN   \n",
       "97           19.0         0          0                  NaN               0.0   \n",
       "98          -21.0         0          0                  NaN               NaN   \n",
       "99          -18.0         0          0                  NaN               NaN   \n",
       "\n",
       "    SECURITY_DELAY  AIRLINE_DELAY  LATE_AIRCRAFT_DELAY  WEATHER_DELAY  \n",
       "0              NaN            NaN                  NaN            NaN  \n",
       "1              NaN            NaN                  NaN            NaN  \n",
       "2              NaN            NaN                  NaN            NaN  \n",
       "3              NaN            NaN                  NaN            NaN  \n",
       "4              NaN            NaN                  NaN            NaN  \n",
       "..             ...            ...                  ...            ...  \n",
       "95             NaN            NaN                  NaN            NaN  \n",
       "96             NaN            NaN                  NaN            NaN  \n",
       "97             0.0           19.0                  0.0            0.0  \n",
       "98             NaN            NaN                  NaN            NaN  \n",
       "99             NaN            NaN                  NaN            NaN  \n",
       "\n",
       "[100 rows x 31 columns]"
      ]
     },
     "execution_count": 107,
     "metadata": {},
     "output_type": "execute_result"
    }
   ],
   "source": [
    "flights=pd.read_csv(\"flights.csv\")\n",
    "flights.head(100)"
   ]
  },
  {
   "cell_type": "code",
   "execution_count": 108,
   "metadata": {},
   "outputs": [],
   "source": [
    "varaibles_to_remove=['YEAR','FLIGHT_NUMBER',\n",
    "       'TAIL_NUMBER','ORIGIN_AIRPORT', 'DESTINATION_AIRPORT',\n",
    "        'ARRIVAL_TIME', 'DIVERTED', 'CANCELLED', 'CANCELLATION_REASON',\n",
    "       'AIR_SYSTEM_DELAY', 'SECURITY_DELAY', 'AIRLINE_DELAY',\n",
    "       'LATE_AIRCRAFT_DELAY', 'WEATHER_DELAY','WHEELS_ON','WHEELS_OFF','AIR_TIME','ELAPSED_TIME','SCHEDULED_TIME']"
   ]
  },
  {
   "cell_type": "code",
   "execution_count": 109,
   "metadata": {},
   "outputs": [],
   "source": [
    "flights.drop(varaibles_to_remove,axis=1,inplace=True)"
   ]
  },
  {
   "cell_type": "code",
   "execution_count": 110,
   "metadata": {},
   "outputs": [
    {
     "data": {
      "text/plain": [
       "Index(['MONTH', 'DAY', 'DAY_OF_WEEK', 'AIRLINE', 'SCHEDULED_DEPARTURE',\n",
       "       'DEPARTURE_TIME', 'DEPARTURE_DELAY', 'TAXI_OUT', 'DISTANCE', 'TAXI_IN',\n",
       "       'SCHEDULED_ARRIVAL', 'ARRIVAL_DELAY'],\n",
       "      dtype='object')"
      ]
     },
     "execution_count": 110,
     "metadata": {},
     "output_type": "execute_result"
    }
   ],
   "source": [
    "flights.columns"
   ]
  },
  {
   "cell_type": "code",
   "execution_count": 111,
   "metadata": {},
   "outputs": [],
   "source": [
    "flights = flights.sample(n=50000)"
   ]
  },
  {
   "cell_type": "code",
   "execution_count": 112,
   "metadata": {},
   "outputs": [
    {
     "data": {
      "text/plain": [
       "MONTH                    0\n",
       "DAY                      0\n",
       "DAY_OF_WEEK              0\n",
       "AIRLINE                  0\n",
       "SCHEDULED_DEPARTURE      0\n",
       "DEPARTURE_TIME         801\n",
       "DEPARTURE_DELAY        801\n",
       "TAXI_OUT               826\n",
       "DISTANCE                 0\n",
       "TAXI_IN                858\n",
       "SCHEDULED_ARRIVAL        0\n",
       "ARRIVAL_DELAY          970\n",
       "dtype: int64"
      ]
     },
     "execution_count": 112,
     "metadata": {},
     "output_type": "execute_result"
    }
   ],
   "source": [
    "flights.isnull().sum()"
   ]
  },
  {
   "cell_type": "code",
   "execution_count": 113,
   "metadata": {},
   "outputs": [],
   "source": [
    "flights=flights.dropna()"
   ]
  },
  {
   "cell_type": "code",
   "execution_count": 114,
   "metadata": {},
   "outputs": [
    {
     "data": {
      "text/plain": [
       "MONTH                  0\n",
       "DAY                    0\n",
       "DAY_OF_WEEK            0\n",
       "AIRLINE                0\n",
       "SCHEDULED_DEPARTURE    0\n",
       "DEPARTURE_TIME         0\n",
       "DEPARTURE_DELAY        0\n",
       "TAXI_OUT               0\n",
       "DISTANCE               0\n",
       "TAXI_IN                0\n",
       "SCHEDULED_ARRIVAL      0\n",
       "ARRIVAL_DELAY          0\n",
       "dtype: int64"
      ]
     },
     "execution_count": 114,
     "metadata": {},
     "output_type": "execute_result"
    }
   ],
   "source": [
    "flights.isnull().sum()"
   ]
  },
  {
   "cell_type": "code",
   "execution_count": 115,
   "metadata": {},
   "outputs": [],
   "source": [
    "import statsmodels.api as sm\n",
    "from statsmodels.stats.outliers_influence import variance_inflation_factor"
   ]
  },
  {
   "cell_type": "code",
   "execution_count": 116,
   "metadata": {},
   "outputs": [
    {
     "data": {
      "text/plain": [
       "Index(['MONTH', 'DAY', 'DAY_OF_WEEK', 'AIRLINE', 'SCHEDULED_DEPARTURE',\n",
       "       'DEPARTURE_TIME', 'DEPARTURE_DELAY', 'TAXI_OUT', 'DISTANCE', 'TAXI_IN',\n",
       "       'SCHEDULED_ARRIVAL', 'ARRIVAL_DELAY'],\n",
       "      dtype='object')"
      ]
     },
     "execution_count": 116,
     "metadata": {},
     "output_type": "execute_result"
    }
   ],
   "source": [
    "flights.columns"
   ]
  },
  {
   "cell_type": "code",
   "execution_count": 117,
   "metadata": {},
   "outputs": [],
   "source": [
    "mm=flights[['MONTH', 'DAY', 'DAY_OF_WEEK',  'SCHEDULED_DEPARTURE',\n",
    "       'DEPARTURE_TIME',  'TAXI_OUT', 'DISTANCE', 'TAXI_IN',\n",
    "       'SCHEDULED_ARRIVAL', 'ARRIVAL_DELAY']]"
   ]
  },
  {
   "cell_type": "code",
   "execution_count": 118,
   "metadata": {},
   "outputs": [
    {
     "data": {
      "text/plain": [
       "Index(['MONTH', 'DAY', 'DAY_OF_WEEK', 'SCHEDULED_DEPARTURE', 'DEPARTURE_TIME',\n",
       "       'TAXI_OUT', 'DISTANCE', 'TAXI_IN', 'SCHEDULED_ARRIVAL',\n",
       "       'ARRIVAL_DELAY'],\n",
       "      dtype='object')"
      ]
     },
     "execution_count": 118,
     "metadata": {},
     "output_type": "execute_result"
    }
   ],
   "source": [
    "mm.columns"
   ]
  },
  {
   "cell_type": "code",
   "execution_count": 119,
   "metadata": {},
   "outputs": [],
   "source": [
    "vif = pd.DataFrame()\n",
    "vif[\"VIF Factor\"] = [variance_inflation_factor(mm.values, i) for i in range(mm.shape[1])]\n",
    "vif[\"features\"] = mm.columns"
   ]
  },
  {
   "cell_type": "code",
   "execution_count": 120,
   "metadata": {},
   "outputs": [
    {
     "data": {
      "text/html": [
       "<div>\n",
       "<style scoped>\n",
       "    .dataframe tbody tr th:only-of-type {\n",
       "        vertical-align: middle;\n",
       "    }\n",
       "\n",
       "    .dataframe tbody tr th {\n",
       "        vertical-align: top;\n",
       "    }\n",
       "\n",
       "    .dataframe thead th {\n",
       "        text-align: right;\n",
       "    }\n",
       "</style>\n",
       "<table border=\"1\" class=\"dataframe\">\n",
       "  <thead>\n",
       "    <tr style=\"text-align: right;\">\n",
       "      <th></th>\n",
       "      <th>VIF Factor</th>\n",
       "      <th>features</th>\n",
       "    </tr>\n",
       "  </thead>\n",
       "  <tbody>\n",
       "    <tr>\n",
       "      <td>0</td>\n",
       "      <td>4.101301</td>\n",
       "      <td>MONTH</td>\n",
       "    </tr>\n",
       "    <tr>\n",
       "      <td>1</td>\n",
       "      <td>3.744223</td>\n",
       "      <td>DAY</td>\n",
       "    </tr>\n",
       "    <tr>\n",
       "      <td>2</td>\n",
       "      <td>4.210247</td>\n",
       "      <td>DAY_OF_WEEK</td>\n",
       "    </tr>\n",
       "    <tr>\n",
       "      <td>3</td>\n",
       "      <td>137.151983</td>\n",
       "      <td>SCHEDULED_DEPARTURE</td>\n",
       "    </tr>\n",
       "    <tr>\n",
       "      <td>4</td>\n",
       "      <td>138.514966</td>\n",
       "      <td>DEPARTURE_TIME</td>\n",
       "    </tr>\n",
       "    <tr>\n",
       "      <td>5</td>\n",
       "      <td>4.001536</td>\n",
       "      <td>TAXI_OUT</td>\n",
       "    </tr>\n",
       "    <tr>\n",
       "      <td>6</td>\n",
       "      <td>2.783270</td>\n",
       "      <td>DISTANCE</td>\n",
       "    </tr>\n",
       "    <tr>\n",
       "      <td>7</td>\n",
       "      <td>2.663241</td>\n",
       "      <td>TAXI_IN</td>\n",
       "    </tr>\n",
       "    <tr>\n",
       "      <td>8</td>\n",
       "      <td>18.696401</td>\n",
       "      <td>SCHEDULED_ARRIVAL</td>\n",
       "    </tr>\n",
       "    <tr>\n",
       "      <td>9</td>\n",
       "      <td>1.177778</td>\n",
       "      <td>ARRIVAL_DELAY</td>\n",
       "    </tr>\n",
       "  </tbody>\n",
       "</table>\n",
       "</div>"
      ],
      "text/plain": [
       "   VIF Factor             features\n",
       "0    4.101301                MONTH\n",
       "1    3.744223                  DAY\n",
       "2    4.210247          DAY_OF_WEEK\n",
       "3  137.151983  SCHEDULED_DEPARTURE\n",
       "4  138.514966       DEPARTURE_TIME\n",
       "5    4.001536             TAXI_OUT\n",
       "6    2.783270             DISTANCE\n",
       "7    2.663241              TAXI_IN\n",
       "8   18.696401    SCHEDULED_ARRIVAL\n",
       "9    1.177778        ARRIVAL_DELAY"
      ]
     },
     "execution_count": 120,
     "metadata": {},
     "output_type": "execute_result"
    }
   ],
   "source": [
    "vif"
   ]
  },
  {
   "cell_type": "code",
   "execution_count": 121,
   "metadata": {},
   "outputs": [],
   "source": [
    "mm=pd.DataFrame(flights)"
   ]
  },
  {
   "cell_type": "code",
   "execution_count": 122,
   "metadata": {},
   "outputs": [
    {
     "data": {
      "text/plain": [
       "397317     UA\n",
       "1816109    MQ\n",
       "4005333    EV\n",
       "3942423    B6\n",
       "516851     NK\n",
       "4856702    MQ\n",
       "4673857    OO\n",
       "4464853    WN\n",
       "4700131    NK\n",
       "1510759    UA\n",
       "565326     AS\n",
       "789273     WN\n",
       "3916506    WN\n",
       "1504109    EV\n",
       "1267719    AA\n",
       "3159222    DL\n",
       "2128104    DL\n",
       "5265774    NK\n",
       "3471276    VX\n",
       "3951432    WN\n",
       "3266352    OO\n",
       "4789051    AA\n",
       "2518804    US\n",
       "1106442    AA\n",
       "374301     AA\n",
       "3142459    UA\n",
       "1961586    HA\n",
       "2083386    WN\n",
       "2863107    EV\n",
       "4842240    WN\n",
       "5337886    DL\n",
       "3785167    OO\n",
       "5559606    MQ\n",
       "5047461    DL\n",
       "4596634    DL\n",
       "3441319    NK\n",
       "1389419    WN\n",
       "3365041    UA\n",
       "2386335    EV\n",
       "3709374    DL\n",
       "Name: AIRLINE, dtype: object"
      ]
     },
     "execution_count": 122,
     "metadata": {},
     "output_type": "execute_result"
    }
   ],
   "source": [
    "mm[\"AIRLINE\"].head(40)"
   ]
  },
  {
   "cell_type": "code",
   "execution_count": 123,
   "metadata": {},
   "outputs": [
    {
     "data": {
      "text/html": [
       "<div>\n",
       "<style scoped>\n",
       "    .dataframe tbody tr th:only-of-type {\n",
       "        vertical-align: middle;\n",
       "    }\n",
       "\n",
       "    .dataframe tbody tr th {\n",
       "        vertical-align: top;\n",
       "    }\n",
       "\n",
       "    .dataframe thead th {\n",
       "        text-align: right;\n",
       "    }\n",
       "</style>\n",
       "<table border=\"1\" class=\"dataframe\">\n",
       "  <thead>\n",
       "    <tr style=\"text-align: right;\">\n",
       "      <th></th>\n",
       "      <th>MONTH</th>\n",
       "      <th>DAY</th>\n",
       "      <th>DAY_OF_WEEK</th>\n",
       "      <th>AIRLINE</th>\n",
       "      <th>SCHEDULED_DEPARTURE</th>\n",
       "      <th>DEPARTURE_TIME</th>\n",
       "      <th>DEPARTURE_DELAY</th>\n",
       "      <th>TAXI_OUT</th>\n",
       "      <th>DISTANCE</th>\n",
       "      <th>TAXI_IN</th>\n",
       "      <th>SCHEDULED_ARRIVAL</th>\n",
       "      <th>ARRIVAL_DELAY</th>\n",
       "    </tr>\n",
       "  </thead>\n",
       "  <tbody>\n",
       "    <tr>\n",
       "      <td>397317</td>\n",
       "      <td>1</td>\n",
       "      <td>27</td>\n",
       "      <td>2</td>\n",
       "      <td>10</td>\n",
       "      <td>735</td>\n",
       "      <td>733.0</td>\n",
       "      <td>-2.0</td>\n",
       "      <td>29.0</td>\n",
       "      <td>622</td>\n",
       "      <td>18.0</td>\n",
       "      <td>850</td>\n",
       "      <td>8.0</td>\n",
       "    </tr>\n",
       "    <tr>\n",
       "      <td>1816109</td>\n",
       "      <td>4</td>\n",
       "      <td>26</td>\n",
       "      <td>7</td>\n",
       "      <td>7</td>\n",
       "      <td>1552</td>\n",
       "      <td>1633.0</td>\n",
       "      <td>41.0</td>\n",
       "      <td>12.0</td>\n",
       "      <td>522</td>\n",
       "      <td>9.0</td>\n",
       "      <td>1738</td>\n",
       "      <td>28.0</td>\n",
       "    </tr>\n",
       "    <tr>\n",
       "      <td>4005333</td>\n",
       "      <td>9</td>\n",
       "      <td>6</td>\n",
       "      <td>7</td>\n",
       "      <td>4</td>\n",
       "      <td>1341</td>\n",
       "      <td>1341.0</td>\n",
       "      <td>0.0</td>\n",
       "      <td>8.0</td>\n",
       "      <td>458</td>\n",
       "      <td>6.0</td>\n",
       "      <td>1514</td>\n",
       "      <td>-7.0</td>\n",
       "    </tr>\n",
       "    <tr>\n",
       "      <td>3942423</td>\n",
       "      <td>9</td>\n",
       "      <td>2</td>\n",
       "      <td>3</td>\n",
       "      <td>2</td>\n",
       "      <td>1030</td>\n",
       "      <td>1022.0</td>\n",
       "      <td>-8.0</td>\n",
       "      <td>11.0</td>\n",
       "      <td>2381</td>\n",
       "      <td>8.0</td>\n",
       "      <td>1832</td>\n",
       "      <td>-19.0</td>\n",
       "    </tr>\n",
       "    <tr>\n",
       "      <td>516851</td>\n",
       "      <td>2</td>\n",
       "      <td>4</td>\n",
       "      <td>3</td>\n",
       "      <td>8</td>\n",
       "      <td>750</td>\n",
       "      <td>750.0</td>\n",
       "      <td>0.0</td>\n",
       "      <td>15.0</td>\n",
       "      <td>1389</td>\n",
       "      <td>8.0</td>\n",
       "      <td>1200</td>\n",
       "      <td>-13.0</td>\n",
       "    </tr>\n",
       "  </tbody>\n",
       "</table>\n",
       "</div>"
      ],
      "text/plain": [
       "         MONTH  DAY  DAY_OF_WEEK  AIRLINE  SCHEDULED_DEPARTURE  \\\n",
       "397317       1   27            2       10                  735   \n",
       "1816109      4   26            7        7                 1552   \n",
       "4005333      9    6            7        4                 1341   \n",
       "3942423      9    2            3        2                 1030   \n",
       "516851       2    4            3        8                  750   \n",
       "\n",
       "         DEPARTURE_TIME  DEPARTURE_DELAY  TAXI_OUT  DISTANCE  TAXI_IN  \\\n",
       "397317            733.0             -2.0      29.0       622     18.0   \n",
       "1816109          1633.0             41.0      12.0       522      9.0   \n",
       "4005333          1341.0              0.0       8.0       458      6.0   \n",
       "3942423          1022.0             -8.0      11.0      2381      8.0   \n",
       "516851            750.0              0.0      15.0      1389      8.0   \n",
       "\n",
       "         SCHEDULED_ARRIVAL  ARRIVAL_DELAY  \n",
       "397317                 850            8.0  \n",
       "1816109               1738           28.0  \n",
       "4005333               1514           -7.0  \n",
       "3942423               1832          -19.0  \n",
       "516851                1200          -13.0  "
      ]
     },
     "execution_count": 123,
     "metadata": {},
     "output_type": "execute_result"
    }
   ],
   "source": [
    "from sklearn.preprocessing import LabelEncoder, OneHotEncoder\n",
    "label_encoder = LabelEncoder()\n",
    "mm['AIRLINE']= label_encoder.fit_transform(mm['AIRLINE'].astype('category'))\n",
    "\n",
    "mm.head()"
   ]
  },
  {
   "cell_type": "code",
   "execution_count": 124,
   "metadata": {},
   "outputs": [
    {
     "data": {
      "text/plain": [
       "Index(['MONTH', 'DAY', 'DAY_OF_WEEK', 'AIRLINE', 'SCHEDULED_DEPARTURE',\n",
       "       'DEPARTURE_TIME', 'DEPARTURE_DELAY', 'TAXI_OUT', 'DISTANCE', 'TAXI_IN',\n",
       "       'SCHEDULED_ARRIVAL', 'ARRIVAL_DELAY'],\n",
       "      dtype='object')"
      ]
     },
     "execution_count": 124,
     "metadata": {},
     "output_type": "execute_result"
    }
   ],
   "source": [
    "mm.columns"
   ]
  },
  {
   "cell_type": "code",
   "execution_count": 125,
   "metadata": {},
   "outputs": [
    {
     "data": {
      "text/plain": [
       "(49030, 12)"
      ]
     },
     "execution_count": 125,
     "metadata": {},
     "output_type": "execute_result"
    }
   ],
   "source": [
    "mm.shape"
   ]
  },
  {
   "cell_type": "code",
   "execution_count": 126,
   "metadata": {},
   "outputs": [
    {
     "data": {
      "text/plain": [
       "MONTH                    int64\n",
       "DAY                      int64\n",
       "DAY_OF_WEEK              int64\n",
       "AIRLINE                  int32\n",
       "SCHEDULED_DEPARTURE      int64\n",
       "DEPARTURE_TIME         float64\n",
       "DEPARTURE_DELAY        float64\n",
       "TAXI_OUT               float64\n",
       "DISTANCE                 int64\n",
       "TAXI_IN                float64\n",
       "SCHEDULED_ARRIVAL        int64\n",
       "ARRIVAL_DELAY          float64\n",
       "dtype: object"
      ]
     },
     "execution_count": 126,
     "metadata": {},
     "output_type": "execute_result"
    }
   ],
   "source": [
    "mm.dtypes"
   ]
  },
  {
   "cell_type": "code",
   "execution_count": 127,
   "metadata": {},
   "outputs": [
    {
     "data": {
      "text/html": [
       "<div>\n",
       "<style scoped>\n",
       "    .dataframe tbody tr th:only-of-type {\n",
       "        vertical-align: middle;\n",
       "    }\n",
       "\n",
       "    .dataframe tbody tr th {\n",
       "        vertical-align: top;\n",
       "    }\n",
       "\n",
       "    .dataframe thead th {\n",
       "        text-align: right;\n",
       "    }\n",
       "</style>\n",
       "<table border=\"1\" class=\"dataframe\">\n",
       "  <thead>\n",
       "    <tr style=\"text-align: right;\">\n",
       "      <th></th>\n",
       "      <th>MONTH</th>\n",
       "      <th>DAY</th>\n",
       "      <th>DAY_OF_WEEK</th>\n",
       "      <th>AIRLINE</th>\n",
       "      <th>SCHEDULED_DEPARTURE</th>\n",
       "      <th>DEPARTURE_TIME</th>\n",
       "      <th>DEPARTURE_DELAY</th>\n",
       "      <th>TAXI_OUT</th>\n",
       "      <th>DISTANCE</th>\n",
       "      <th>TAXI_IN</th>\n",
       "      <th>SCHEDULED_ARRIVAL</th>\n",
       "      <th>ARRIVAL_DELAY</th>\n",
       "    </tr>\n",
       "  </thead>\n",
       "  <tbody>\n",
       "    <tr>\n",
       "      <td>397317</td>\n",
       "      <td>1</td>\n",
       "      <td>27</td>\n",
       "      <td>2</td>\n",
       "      <td>10</td>\n",
       "      <td>735</td>\n",
       "      <td>733.0</td>\n",
       "      <td>-2.0</td>\n",
       "      <td>29.0</td>\n",
       "      <td>622</td>\n",
       "      <td>18.0</td>\n",
       "      <td>850</td>\n",
       "      <td>8.0</td>\n",
       "    </tr>\n",
       "    <tr>\n",
       "      <td>1816109</td>\n",
       "      <td>4</td>\n",
       "      <td>26</td>\n",
       "      <td>7</td>\n",
       "      <td>7</td>\n",
       "      <td>1552</td>\n",
       "      <td>1633.0</td>\n",
       "      <td>41.0</td>\n",
       "      <td>12.0</td>\n",
       "      <td>522</td>\n",
       "      <td>9.0</td>\n",
       "      <td>1738</td>\n",
       "      <td>28.0</td>\n",
       "    </tr>\n",
       "    <tr>\n",
       "      <td>4005333</td>\n",
       "      <td>9</td>\n",
       "      <td>6</td>\n",
       "      <td>7</td>\n",
       "      <td>4</td>\n",
       "      <td>1341</td>\n",
       "      <td>1341.0</td>\n",
       "      <td>0.0</td>\n",
       "      <td>8.0</td>\n",
       "      <td>458</td>\n",
       "      <td>6.0</td>\n",
       "      <td>1514</td>\n",
       "      <td>-7.0</td>\n",
       "    </tr>\n",
       "    <tr>\n",
       "      <td>3942423</td>\n",
       "      <td>9</td>\n",
       "      <td>2</td>\n",
       "      <td>3</td>\n",
       "      <td>2</td>\n",
       "      <td>1030</td>\n",
       "      <td>1022.0</td>\n",
       "      <td>-8.0</td>\n",
       "      <td>11.0</td>\n",
       "      <td>2381</td>\n",
       "      <td>8.0</td>\n",
       "      <td>1832</td>\n",
       "      <td>-19.0</td>\n",
       "    </tr>\n",
       "    <tr>\n",
       "      <td>516851</td>\n",
       "      <td>2</td>\n",
       "      <td>4</td>\n",
       "      <td>3</td>\n",
       "      <td>8</td>\n",
       "      <td>750</td>\n",
       "      <td>750.0</td>\n",
       "      <td>0.0</td>\n",
       "      <td>15.0</td>\n",
       "      <td>1389</td>\n",
       "      <td>8.0</td>\n",
       "      <td>1200</td>\n",
       "      <td>-13.0</td>\n",
       "    </tr>\n",
       "    <tr>\n",
       "      <td>4856702</td>\n",
       "      <td>10</td>\n",
       "      <td>30</td>\n",
       "      <td>5</td>\n",
       "      <td>7</td>\n",
       "      <td>1755</td>\n",
       "      <td>1753.0</td>\n",
       "      <td>-2.0</td>\n",
       "      <td>24.0</td>\n",
       "      <td>196</td>\n",
       "      <td>4.0</td>\n",
       "      <td>1858</td>\n",
       "      <td>1.0</td>\n",
       "    </tr>\n",
       "    <tr>\n",
       "      <td>4673857</td>\n",
       "      <td>10</td>\n",
       "      <td>19</td>\n",
       "      <td>1</td>\n",
       "      <td>9</td>\n",
       "      <td>945</td>\n",
       "      <td>940.0</td>\n",
       "      <td>-5.0</td>\n",
       "      <td>26.0</td>\n",
       "      <td>272</td>\n",
       "      <td>3.0</td>\n",
       "      <td>1047</td>\n",
       "      <td>9.0</td>\n",
       "    </tr>\n",
       "    <tr>\n",
       "      <td>4464853</td>\n",
       "      <td>10</td>\n",
       "      <td>6</td>\n",
       "      <td>2</td>\n",
       "      <td>13</td>\n",
       "      <td>615</td>\n",
       "      <td>626.0</td>\n",
       "      <td>11.0</td>\n",
       "      <td>17.0</td>\n",
       "      <td>1491</td>\n",
       "      <td>4.0</td>\n",
       "      <td>1140</td>\n",
       "      <td>1.0</td>\n",
       "    </tr>\n",
       "    <tr>\n",
       "      <td>4700131</td>\n",
       "      <td>10</td>\n",
       "      <td>20</td>\n",
       "      <td>2</td>\n",
       "      <td>8</td>\n",
       "      <td>1943</td>\n",
       "      <td>2013.0</td>\n",
       "      <td>30.0</td>\n",
       "      <td>12.0</td>\n",
       "      <td>2106</td>\n",
       "      <td>7.0</td>\n",
       "      <td>2150</td>\n",
       "      <td>17.0</td>\n",
       "    </tr>\n",
       "    <tr>\n",
       "      <td>1510759</td>\n",
       "      <td>4</td>\n",
       "      <td>7</td>\n",
       "      <td>2</td>\n",
       "      <td>10</td>\n",
       "      <td>1550</td>\n",
       "      <td>1603.0</td>\n",
       "      <td>13.0</td>\n",
       "      <td>19.0</td>\n",
       "      <td>679</td>\n",
       "      <td>8.0</td>\n",
       "      <td>1755</td>\n",
       "      <td>5.0</td>\n",
       "    </tr>\n",
       "  </tbody>\n",
       "</table>\n",
       "</div>"
      ],
      "text/plain": [
       "         MONTH  DAY  DAY_OF_WEEK  AIRLINE  SCHEDULED_DEPARTURE  \\\n",
       "397317       1   27            2       10                  735   \n",
       "1816109      4   26            7        7                 1552   \n",
       "4005333      9    6            7        4                 1341   \n",
       "3942423      9    2            3        2                 1030   \n",
       "516851       2    4            3        8                  750   \n",
       "4856702     10   30            5        7                 1755   \n",
       "4673857     10   19            1        9                  945   \n",
       "4464853     10    6            2       13                  615   \n",
       "4700131     10   20            2        8                 1943   \n",
       "1510759      4    7            2       10                 1550   \n",
       "\n",
       "         DEPARTURE_TIME  DEPARTURE_DELAY  TAXI_OUT  DISTANCE  TAXI_IN  \\\n",
       "397317            733.0             -2.0      29.0       622     18.0   \n",
       "1816109          1633.0             41.0      12.0       522      9.0   \n",
       "4005333          1341.0              0.0       8.0       458      6.0   \n",
       "3942423          1022.0             -8.0      11.0      2381      8.0   \n",
       "516851            750.0              0.0      15.0      1389      8.0   \n",
       "4856702          1753.0             -2.0      24.0       196      4.0   \n",
       "4673857           940.0             -5.0      26.0       272      3.0   \n",
       "4464853           626.0             11.0      17.0      1491      4.0   \n",
       "4700131          2013.0             30.0      12.0      2106      7.0   \n",
       "1510759          1603.0             13.0      19.0       679      8.0   \n",
       "\n",
       "         SCHEDULED_ARRIVAL  ARRIVAL_DELAY  \n",
       "397317                 850            8.0  \n",
       "1816109               1738           28.0  \n",
       "4005333               1514           -7.0  \n",
       "3942423               1832          -19.0  \n",
       "516851                1200          -13.0  \n",
       "4856702               1858            1.0  \n",
       "4673857               1047            9.0  \n",
       "4464853               1140            1.0  \n",
       "4700131               2150           17.0  \n",
       "1510759               1755            5.0  "
      ]
     },
     "execution_count": 127,
     "metadata": {},
     "output_type": "execute_result"
    }
   ],
   "source": [
    "mm.head(10)"
   ]
  },
  {
   "cell_type": "code",
   "execution_count": 128,
   "metadata": {},
   "outputs": [],
   "source": [
    "from sklearn.model_selection import train_test_split \n",
    "from sklearn import metrics"
   ]
  },
  {
   "cell_type": "code",
   "execution_count": 129,
   "metadata": {},
   "outputs": [],
   "source": [
    "final_data=mm"
   ]
  },
  {
   "cell_type": "code",
   "execution_count": 130,
   "metadata": {},
   "outputs": [],
   "source": [
    "X=final_data.drop(\"DEPARTURE_DELAY\",axis=1)\n",
    "Y=final_data.DEPARTURE_DELAY"
   ]
  },
  {
   "cell_type": "code",
   "execution_count": 131,
   "metadata": {},
   "outputs": [
    {
     "data": {
      "text/html": [
       "<div>\n",
       "<style scoped>\n",
       "    .dataframe tbody tr th:only-of-type {\n",
       "        vertical-align: middle;\n",
       "    }\n",
       "\n",
       "    .dataframe tbody tr th {\n",
       "        vertical-align: top;\n",
       "    }\n",
       "\n",
       "    .dataframe thead th {\n",
       "        text-align: right;\n",
       "    }\n",
       "</style>\n",
       "<table border=\"1\" class=\"dataframe\">\n",
       "  <thead>\n",
       "    <tr style=\"text-align: right;\">\n",
       "      <th></th>\n",
       "      <th>MONTH</th>\n",
       "      <th>DAY</th>\n",
       "      <th>DAY_OF_WEEK</th>\n",
       "      <th>AIRLINE</th>\n",
       "      <th>SCHEDULED_DEPARTURE</th>\n",
       "      <th>DEPARTURE_TIME</th>\n",
       "      <th>TAXI_OUT</th>\n",
       "      <th>DISTANCE</th>\n",
       "      <th>TAXI_IN</th>\n",
       "      <th>SCHEDULED_ARRIVAL</th>\n",
       "      <th>ARRIVAL_DELAY</th>\n",
       "    </tr>\n",
       "  </thead>\n",
       "  <tbody>\n",
       "    <tr>\n",
       "      <td>397317</td>\n",
       "      <td>1</td>\n",
       "      <td>27</td>\n",
       "      <td>2</td>\n",
       "      <td>10</td>\n",
       "      <td>735</td>\n",
       "      <td>733.0</td>\n",
       "      <td>29.0</td>\n",
       "      <td>622</td>\n",
       "      <td>18.0</td>\n",
       "      <td>850</td>\n",
       "      <td>8.0</td>\n",
       "    </tr>\n",
       "    <tr>\n",
       "      <td>1816109</td>\n",
       "      <td>4</td>\n",
       "      <td>26</td>\n",
       "      <td>7</td>\n",
       "      <td>7</td>\n",
       "      <td>1552</td>\n",
       "      <td>1633.0</td>\n",
       "      <td>12.0</td>\n",
       "      <td>522</td>\n",
       "      <td>9.0</td>\n",
       "      <td>1738</td>\n",
       "      <td>28.0</td>\n",
       "    </tr>\n",
       "    <tr>\n",
       "      <td>4005333</td>\n",
       "      <td>9</td>\n",
       "      <td>6</td>\n",
       "      <td>7</td>\n",
       "      <td>4</td>\n",
       "      <td>1341</td>\n",
       "      <td>1341.0</td>\n",
       "      <td>8.0</td>\n",
       "      <td>458</td>\n",
       "      <td>6.0</td>\n",
       "      <td>1514</td>\n",
       "      <td>-7.0</td>\n",
       "    </tr>\n",
       "    <tr>\n",
       "      <td>3942423</td>\n",
       "      <td>9</td>\n",
       "      <td>2</td>\n",
       "      <td>3</td>\n",
       "      <td>2</td>\n",
       "      <td>1030</td>\n",
       "      <td>1022.0</td>\n",
       "      <td>11.0</td>\n",
       "      <td>2381</td>\n",
       "      <td>8.0</td>\n",
       "      <td>1832</td>\n",
       "      <td>-19.0</td>\n",
       "    </tr>\n",
       "    <tr>\n",
       "      <td>516851</td>\n",
       "      <td>2</td>\n",
       "      <td>4</td>\n",
       "      <td>3</td>\n",
       "      <td>8</td>\n",
       "      <td>750</td>\n",
       "      <td>750.0</td>\n",
       "      <td>15.0</td>\n",
       "      <td>1389</td>\n",
       "      <td>8.0</td>\n",
       "      <td>1200</td>\n",
       "      <td>-13.0</td>\n",
       "    </tr>\n",
       "    <tr>\n",
       "      <td>4856702</td>\n",
       "      <td>10</td>\n",
       "      <td>30</td>\n",
       "      <td>5</td>\n",
       "      <td>7</td>\n",
       "      <td>1755</td>\n",
       "      <td>1753.0</td>\n",
       "      <td>24.0</td>\n",
       "      <td>196</td>\n",
       "      <td>4.0</td>\n",
       "      <td>1858</td>\n",
       "      <td>1.0</td>\n",
       "    </tr>\n",
       "    <tr>\n",
       "      <td>4673857</td>\n",
       "      <td>10</td>\n",
       "      <td>19</td>\n",
       "      <td>1</td>\n",
       "      <td>9</td>\n",
       "      <td>945</td>\n",
       "      <td>940.0</td>\n",
       "      <td>26.0</td>\n",
       "      <td>272</td>\n",
       "      <td>3.0</td>\n",
       "      <td>1047</td>\n",
       "      <td>9.0</td>\n",
       "    </tr>\n",
       "    <tr>\n",
       "      <td>4464853</td>\n",
       "      <td>10</td>\n",
       "      <td>6</td>\n",
       "      <td>2</td>\n",
       "      <td>13</td>\n",
       "      <td>615</td>\n",
       "      <td>626.0</td>\n",
       "      <td>17.0</td>\n",
       "      <td>1491</td>\n",
       "      <td>4.0</td>\n",
       "      <td>1140</td>\n",
       "      <td>1.0</td>\n",
       "    </tr>\n",
       "    <tr>\n",
       "      <td>4700131</td>\n",
       "      <td>10</td>\n",
       "      <td>20</td>\n",
       "      <td>2</td>\n",
       "      <td>8</td>\n",
       "      <td>1943</td>\n",
       "      <td>2013.0</td>\n",
       "      <td>12.0</td>\n",
       "      <td>2106</td>\n",
       "      <td>7.0</td>\n",
       "      <td>2150</td>\n",
       "      <td>17.0</td>\n",
       "    </tr>\n",
       "    <tr>\n",
       "      <td>1510759</td>\n",
       "      <td>4</td>\n",
       "      <td>7</td>\n",
       "      <td>2</td>\n",
       "      <td>10</td>\n",
       "      <td>1550</td>\n",
       "      <td>1603.0</td>\n",
       "      <td>19.0</td>\n",
       "      <td>679</td>\n",
       "      <td>8.0</td>\n",
       "      <td>1755</td>\n",
       "      <td>5.0</td>\n",
       "    </tr>\n",
       "  </tbody>\n",
       "</table>\n",
       "</div>"
      ],
      "text/plain": [
       "         MONTH  DAY  DAY_OF_WEEK  AIRLINE  SCHEDULED_DEPARTURE  \\\n",
       "397317       1   27            2       10                  735   \n",
       "1816109      4   26            7        7                 1552   \n",
       "4005333      9    6            7        4                 1341   \n",
       "3942423      9    2            3        2                 1030   \n",
       "516851       2    4            3        8                  750   \n",
       "4856702     10   30            5        7                 1755   \n",
       "4673857     10   19            1        9                  945   \n",
       "4464853     10    6            2       13                  615   \n",
       "4700131     10   20            2        8                 1943   \n",
       "1510759      4    7            2       10                 1550   \n",
       "\n",
       "         DEPARTURE_TIME  TAXI_OUT  DISTANCE  TAXI_IN  SCHEDULED_ARRIVAL  \\\n",
       "397317            733.0      29.0       622     18.0                850   \n",
       "1816109          1633.0      12.0       522      9.0               1738   \n",
       "4005333          1341.0       8.0       458      6.0               1514   \n",
       "3942423          1022.0      11.0      2381      8.0               1832   \n",
       "516851            750.0      15.0      1389      8.0               1200   \n",
       "4856702          1753.0      24.0       196      4.0               1858   \n",
       "4673857           940.0      26.0       272      3.0               1047   \n",
       "4464853           626.0      17.0      1491      4.0               1140   \n",
       "4700131          2013.0      12.0      2106      7.0               2150   \n",
       "1510759          1603.0      19.0       679      8.0               1755   \n",
       "\n",
       "         ARRIVAL_DELAY  \n",
       "397317             8.0  \n",
       "1816109           28.0  \n",
       "4005333           -7.0  \n",
       "3942423          -19.0  \n",
       "516851           -13.0  \n",
       "4856702            1.0  \n",
       "4673857            9.0  \n",
       "4464853            1.0  \n",
       "4700131           17.0  \n",
       "1510759            5.0  "
      ]
     },
     "execution_count": 131,
     "metadata": {},
     "output_type": "execute_result"
    }
   ],
   "source": [
    "X.head(10)"
   ]
  },
  {
   "cell_type": "code",
   "execution_count": 132,
   "metadata": {},
   "outputs": [
    {
     "data": {
      "text/plain": [
       "397317     -2.0\n",
       "1816109    41.0\n",
       "4005333     0.0\n",
       "3942423    -8.0\n",
       "516851      0.0\n",
       "4856702    -2.0\n",
       "4673857    -5.0\n",
       "4464853    11.0\n",
       "4700131    30.0\n",
       "1510759    13.0\n",
       "Name: DEPARTURE_DELAY, dtype: float64"
      ]
     },
     "execution_count": 132,
     "metadata": {},
     "output_type": "execute_result"
    }
   ],
   "source": [
    "Y.head(10)"
   ]
  },
  {
   "cell_type": "code",
   "execution_count": 133,
   "metadata": {},
   "outputs": [],
   "source": [
    "from sklearn.model_selection import train_test_split, cross_val_score, cross_val_predict\n",
    "X_train, X_test, y_train, y_test = train_test_split(X, Y, test_size=0.2, random_state=0)"
   ]
  },
  {
   "cell_type": "code",
   "execution_count": 134,
   "metadata": {},
   "outputs": [
    {
     "name": "stderr",
     "output_type": "stream",
     "text": [
      "C:\\Users\\anilkrishna\\Anaconda3\\lib\\site-packages\\sklearn\\ensemble\\forest.py:245: FutureWarning: The default value of n_estimators will change from 10 in version 0.20 to 100 in 0.22.\n",
      "  \"10 in version 0.20 to 100 in 0.22.\", FutureWarning)\n"
     ]
    },
    {
     "data": {
      "text/plain": [
       "RandomForestRegressor(bootstrap=True, criterion='mse', max_depth=None,\n",
       "                      max_features='auto', max_leaf_nodes=None,\n",
       "                      min_impurity_decrease=0.0, min_impurity_split=None,\n",
       "                      min_samples_leaf=1, min_samples_split=2,\n",
       "                      min_weight_fraction_leaf=0.0, n_estimators=10,\n",
       "                      n_jobs=None, oob_score=False, random_state=None,\n",
       "                      verbose=0, warm_start=False)"
      ]
     },
     "execution_count": 134,
     "metadata": {},
     "output_type": "execute_result"
    }
   ],
   "source": [
    "from sklearn.ensemble import RandomForestRegressor\n",
    "reg_rf = RandomForestRegressor()\n",
    "reg_rf.fit(X_train,y_train)"
   ]
  },
  {
   "cell_type": "code",
   "execution_count": 135,
   "metadata": {},
   "outputs": [],
   "source": [
    "y_pred = reg_rf.predict(X_test)"
   ]
  },
  {
   "cell_type": "code",
   "execution_count": 136,
   "metadata": {},
   "outputs": [
    {
     "data": {
      "text/plain": [
       "0.9913615868656621"
      ]
     },
     "execution_count": 136,
     "metadata": {},
     "output_type": "execute_result"
    }
   ],
   "source": [
    "reg_rf.score(X_train,y_train)"
   ]
  },
  {
   "cell_type": "code",
   "execution_count": 137,
   "metadata": {},
   "outputs": [
    {
     "data": {
      "text/plain": [
       "0.9589292655478181"
      ]
     },
     "execution_count": 137,
     "metadata": {},
     "output_type": "execute_result"
    }
   ],
   "source": [
    "reg_rf.score(X_test,y_test)"
   ]
  },
  {
   "cell_type": "code",
   "execution_count": 138,
   "metadata": {},
   "outputs": [
    {
     "data": {
      "text/plain": [
       "0.9589292655478181"
      ]
     },
     "execution_count": 138,
     "metadata": {},
     "output_type": "execute_result"
    }
   ],
   "source": [
    "metrics.r2_score(y_test,y_pred)"
   ]
  },
  {
   "cell_type": "code",
   "execution_count": 139,
   "metadata": {},
   "outputs": [
    {
     "name": "stdout",
     "output_type": "stream",
     "text": [
      "MAE: 5.107852335304915\n",
      "MSE: 61.44482969610443\n",
      "RMSE: 7.838675251348561\n"
     ]
    }
   ],
   "source": [
    "print('MAE:', metrics.mean_absolute_error(y_test,y_pred))\n",
    "print('MSE:', metrics.mean_squared_error(y_test,y_pred))\n",
    "print('RMSE:', np.sqrt(metrics.mean_squared_error(y_test,y_pred)))"
   ]
  },
  {
   "cell_type": "code",
   "execution_count": 140,
   "metadata": {},
   "outputs": [
    {
     "data": {
      "text/html": [
       "<div>\n",
       "<style scoped>\n",
       "    .dataframe tbody tr th:only-of-type {\n",
       "        vertical-align: middle;\n",
       "    }\n",
       "\n",
       "    .dataframe tbody tr th {\n",
       "        vertical-align: top;\n",
       "    }\n",
       "\n",
       "    .dataframe thead th {\n",
       "        text-align: right;\n",
       "    }\n",
       "</style>\n",
       "<table border=\"1\" class=\"dataframe\">\n",
       "  <thead>\n",
       "    <tr style=\"text-align: right;\">\n",
       "      <th></th>\n",
       "      <th>Actual</th>\n",
       "      <th>Predicted</th>\n",
       "    </tr>\n",
       "  </thead>\n",
       "  <tbody>\n",
       "    <tr>\n",
       "      <td>3171990</td>\n",
       "      <td>-5.0</td>\n",
       "      <td>15.7</td>\n",
       "    </tr>\n",
       "    <tr>\n",
       "      <td>1152655</td>\n",
       "      <td>18.0</td>\n",
       "      <td>1.0</td>\n",
       "    </tr>\n",
       "    <tr>\n",
       "      <td>4268580</td>\n",
       "      <td>-5.0</td>\n",
       "      <td>8.3</td>\n",
       "    </tr>\n",
       "    <tr>\n",
       "      <td>2615243</td>\n",
       "      <td>-11.0</td>\n",
       "      <td>12.8</td>\n",
       "    </tr>\n",
       "    <tr>\n",
       "      <td>2921144</td>\n",
       "      <td>0.0</td>\n",
       "      <td>5.1</td>\n",
       "    </tr>\n",
       "    <tr>\n",
       "      <td>739991</td>\n",
       "      <td>102.0</td>\n",
       "      <td>84.1</td>\n",
       "    </tr>\n",
       "    <tr>\n",
       "      <td>1372191</td>\n",
       "      <td>-5.0</td>\n",
       "      <td>-0.7</td>\n",
       "    </tr>\n",
       "    <tr>\n",
       "      <td>1215176</td>\n",
       "      <td>-6.0</td>\n",
       "      <td>-2.4</td>\n",
       "    </tr>\n",
       "    <tr>\n",
       "      <td>5458987</td>\n",
       "      <td>-6.0</td>\n",
       "      <td>-3.8</td>\n",
       "    </tr>\n",
       "    <tr>\n",
       "      <td>2019419</td>\n",
       "      <td>5.0</td>\n",
       "      <td>3.8</td>\n",
       "    </tr>\n",
       "  </tbody>\n",
       "</table>\n",
       "</div>"
      ],
      "text/plain": [
       "         Actual  Predicted\n",
       "3171990    -5.0       15.7\n",
       "1152655    18.0        1.0\n",
       "4268580    -5.0        8.3\n",
       "2615243   -11.0       12.8\n",
       "2921144     0.0        5.1\n",
       "739991    102.0       84.1\n",
       "1372191    -5.0       -0.7\n",
       "1215176    -6.0       -2.4\n",
       "5458987    -6.0       -3.8\n",
       "2019419     5.0        3.8"
      ]
     },
     "execution_count": 140,
     "metadata": {},
     "output_type": "execute_result"
    }
   ],
   "source": [
    "pp=pd.DataFrame({'Actual':y_test,'Predicted':y_pred})\n",
    "pp.head(10)"
   ]
  },
  {
   "cell_type": "code",
   "execution_count": 141,
   "metadata": {},
   "outputs": [],
   "source": [
    "from sklearn.model_selection import RandomizedSearchCV"
   ]
  },
  {
   "cell_type": "code",
   "execution_count": 142,
   "metadata": {},
   "outputs": [],
   "source": [
    "#Randomized Search CV\n",
    "\n",
    "# Number of trees in random forest\n",
    "n_estimators = [int(x) for x in np.linspace(start = 10, stop = 200, num = 12)]\n",
    "# Number of features to consider at every split\n",
    "max_features = ['auto', 'sqrt']\n",
    "# Maximum number of levels in tree\n",
    "max_depth = [int(x) for x in np.linspace(5, 30, num = 6)]\n",
    "# Minimum number of samples required to split a node\n",
    "min_samples_split = [2, 5, 10, 15, 100]\n",
    "# Minimum number of samples required at each leaf node\n",
    "min_samples_leaf = [1, 2, 5, 10]"
   ]
  },
  {
   "cell_type": "code",
   "execution_count": 143,
   "metadata": {},
   "outputs": [],
   "source": [
    "# Create the random grid\n",
    "\n",
    "random_grid = {'n_estimators': n_estimators,\n",
    "               'max_features': max_features,\n",
    "               'max_depth': max_depth,\n",
    "               'min_samples_split': min_samples_split,\n",
    "               'min_samples_leaf': min_samples_leaf}"
   ]
  },
  {
   "cell_type": "code",
   "execution_count": 144,
   "metadata": {},
   "outputs": [],
   "source": [
    "# Random search of parameters, using 5 fold cross validation, \n",
    "# search across 100 different combinations\n",
    "rf_random = RandomizedSearchCV(estimator = reg_rf, param_distributions = random_grid,scoring='neg_mean_squared_error', n_iter = 10, cv = 5, verbose=2, random_state=42, n_jobs = 1)"
   ]
  },
  {
   "cell_type": "code",
   "execution_count": 145,
   "metadata": {},
   "outputs": [
    {
     "name": "stdout",
     "output_type": "stream",
     "text": [
      "Fitting 5 folds for each of 10 candidates, totalling 50 fits\n",
      "[CV] n_estimators=148, min_samples_split=5, min_samples_leaf=5, max_features=sqrt, max_depth=10 \n"
     ]
    },
    {
     "name": "stderr",
     "output_type": "stream",
     "text": [
      "[Parallel(n_jobs=1)]: Using backend SequentialBackend with 1 concurrent workers.\n"
     ]
    },
    {
     "name": "stdout",
     "output_type": "stream",
     "text": [
      "[CV]  n_estimators=148, min_samples_split=5, min_samples_leaf=5, max_features=sqrt, max_depth=10, total=  10.2s\n",
      "[CV] n_estimators=148, min_samples_split=5, min_samples_leaf=5, max_features=sqrt, max_depth=10 \n"
     ]
    },
    {
     "name": "stderr",
     "output_type": "stream",
     "text": [
      "[Parallel(n_jobs=1)]: Done   1 out of   1 | elapsed:   10.2s remaining:    0.0s\n"
     ]
    },
    {
     "name": "stdout",
     "output_type": "stream",
     "text": [
      "[CV]  n_estimators=148, min_samples_split=5, min_samples_leaf=5, max_features=sqrt, max_depth=10, total=   9.9s\n",
      "[CV] n_estimators=148, min_samples_split=5, min_samples_leaf=5, max_features=sqrt, max_depth=10 \n",
      "[CV]  n_estimators=148, min_samples_split=5, min_samples_leaf=5, max_features=sqrt, max_depth=10, total=   9.9s\n",
      "[CV] n_estimators=148, min_samples_split=5, min_samples_leaf=5, max_features=sqrt, max_depth=10 \n",
      "[CV]  n_estimators=148, min_samples_split=5, min_samples_leaf=5, max_features=sqrt, max_depth=10, total=   9.7s\n",
      "[CV] n_estimators=148, min_samples_split=5, min_samples_leaf=5, max_features=sqrt, max_depth=10 \n",
      "[CV]  n_estimators=148, min_samples_split=5, min_samples_leaf=5, max_features=sqrt, max_depth=10, total=  10.2s\n",
      "[CV] n_estimators=182, min_samples_split=10, min_samples_leaf=2, max_features=sqrt, max_depth=15 \n",
      "[CV]  n_estimators=182, min_samples_split=10, min_samples_leaf=2, max_features=sqrt, max_depth=15, total=  18.0s\n",
      "[CV] n_estimators=182, min_samples_split=10, min_samples_leaf=2, max_features=sqrt, max_depth=15 \n",
      "[CV]  n_estimators=182, min_samples_split=10, min_samples_leaf=2, max_features=sqrt, max_depth=15, total=  17.8s\n",
      "[CV] n_estimators=182, min_samples_split=10, min_samples_leaf=2, max_features=sqrt, max_depth=15 \n",
      "[CV]  n_estimators=182, min_samples_split=10, min_samples_leaf=2, max_features=sqrt, max_depth=15, total=  17.8s\n",
      "[CV] n_estimators=182, min_samples_split=10, min_samples_leaf=2, max_features=sqrt, max_depth=15 \n",
      "[CV]  n_estimators=182, min_samples_split=10, min_samples_leaf=2, max_features=sqrt, max_depth=15, total=  17.9s\n",
      "[CV] n_estimators=182, min_samples_split=10, min_samples_leaf=2, max_features=sqrt, max_depth=15 \n",
      "[CV]  n_estimators=182, min_samples_split=10, min_samples_leaf=2, max_features=sqrt, max_depth=15, total=  17.7s\n",
      "[CV] n_estimators=44, min_samples_split=100, min_samples_leaf=5, max_features=auto, max_depth=15 \n",
      "[CV]  n_estimators=44, min_samples_split=100, min_samples_leaf=5, max_features=auto, max_depth=15, total=  11.5s\n",
      "[CV] n_estimators=44, min_samples_split=100, min_samples_leaf=5, max_features=auto, max_depth=15 \n",
      "[CV]  n_estimators=44, min_samples_split=100, min_samples_leaf=5, max_features=auto, max_depth=15, total=  11.5s\n",
      "[CV] n_estimators=44, min_samples_split=100, min_samples_leaf=5, max_features=auto, max_depth=15 \n",
      "[CV]  n_estimators=44, min_samples_split=100, min_samples_leaf=5, max_features=auto, max_depth=15, total=  11.3s\n",
      "[CV] n_estimators=44, min_samples_split=100, min_samples_leaf=5, max_features=auto, max_depth=15 \n",
      "[CV]  n_estimators=44, min_samples_split=100, min_samples_leaf=5, max_features=auto, max_depth=15, total=  11.4s\n",
      "[CV] n_estimators=44, min_samples_split=100, min_samples_leaf=5, max_features=auto, max_depth=15 \n",
      "[CV]  n_estimators=44, min_samples_split=100, min_samples_leaf=5, max_features=auto, max_depth=15, total=  11.3s\n",
      "[CV] n_estimators=61, min_samples_split=5, min_samples_leaf=5, max_features=auto, max_depth=15 \n",
      "[CV]  n_estimators=61, min_samples_split=5, min_samples_leaf=5, max_features=auto, max_depth=15, total=  18.9s\n",
      "[CV] n_estimators=61, min_samples_split=5, min_samples_leaf=5, max_features=auto, max_depth=15 \n",
      "[CV]  n_estimators=61, min_samples_split=5, min_samples_leaf=5, max_features=auto, max_depth=15, total=  19.0s\n",
      "[CV] n_estimators=61, min_samples_split=5, min_samples_leaf=5, max_features=auto, max_depth=15 \n",
      "[CV]  n_estimators=61, min_samples_split=5, min_samples_leaf=5, max_features=auto, max_depth=15, total=  19.1s\n",
      "[CV] n_estimators=61, min_samples_split=5, min_samples_leaf=5, max_features=auto, max_depth=15 \n",
      "[CV]  n_estimators=61, min_samples_split=5, min_samples_leaf=5, max_features=auto, max_depth=15, total=  18.9s\n",
      "[CV] n_estimators=61, min_samples_split=5, min_samples_leaf=5, max_features=auto, max_depth=15 \n",
      "[CV]  n_estimators=61, min_samples_split=5, min_samples_leaf=5, max_features=auto, max_depth=15, total=  19.1s\n",
      "[CV] n_estimators=113, min_samples_split=5, min_samples_leaf=10, max_features=auto, max_depth=20 \n",
      "[CV]  n_estimators=113, min_samples_split=5, min_samples_leaf=10, max_features=auto, max_depth=20, total=  34.7s\n",
      "[CV] n_estimators=113, min_samples_split=5, min_samples_leaf=10, max_features=auto, max_depth=20 \n",
      "[CV]  n_estimators=113, min_samples_split=5, min_samples_leaf=10, max_features=auto, max_depth=20, total=  35.1s\n",
      "[CV] n_estimators=113, min_samples_split=5, min_samples_leaf=10, max_features=auto, max_depth=20 \n",
      "[CV]  n_estimators=113, min_samples_split=5, min_samples_leaf=10, max_features=auto, max_depth=20, total=  34.9s\n",
      "[CV] n_estimators=113, min_samples_split=5, min_samples_leaf=10, max_features=auto, max_depth=20 \n",
      "[CV]  n_estimators=113, min_samples_split=5, min_samples_leaf=10, max_features=auto, max_depth=20, total=  34.9s\n",
      "[CV] n_estimators=113, min_samples_split=5, min_samples_leaf=10, max_features=auto, max_depth=20 \n",
      "[CV]  n_estimators=113, min_samples_split=5, min_samples_leaf=10, max_features=auto, max_depth=20, total=  35.1s\n",
      "[CV] n_estimators=165, min_samples_split=2, min_samples_leaf=1, max_features=sqrt, max_depth=25 \n",
      "[CV]  n_estimators=165, min_samples_split=2, min_samples_leaf=1, max_features=sqrt, max_depth=25, total=  26.8s\n",
      "[CV] n_estimators=165, min_samples_split=2, min_samples_leaf=1, max_features=sqrt, max_depth=25 \n",
      "[CV]  n_estimators=165, min_samples_split=2, min_samples_leaf=1, max_features=sqrt, max_depth=25, total=  26.9s\n",
      "[CV] n_estimators=165, min_samples_split=2, min_samples_leaf=1, max_features=sqrt, max_depth=25 \n",
      "[CV]  n_estimators=165, min_samples_split=2, min_samples_leaf=1, max_features=sqrt, max_depth=25, total=  27.0s\n",
      "[CV] n_estimators=165, min_samples_split=2, min_samples_leaf=1, max_features=sqrt, max_depth=25 \n",
      "[CV]  n_estimators=165, min_samples_split=2, min_samples_leaf=1, max_features=sqrt, max_depth=25, total=  26.9s\n",
      "[CV] n_estimators=165, min_samples_split=2, min_samples_leaf=1, max_features=sqrt, max_depth=25 \n",
      "[CV]  n_estimators=165, min_samples_split=2, min_samples_leaf=1, max_features=sqrt, max_depth=25, total=  26.9s\n",
      "[CV] n_estimators=182, min_samples_split=15, min_samples_leaf=10, max_features=sqrt, max_depth=5 \n",
      "[CV]  n_estimators=182, min_samples_split=15, min_samples_leaf=10, max_features=sqrt, max_depth=5, total=   6.4s\n",
      "[CV] n_estimators=182, min_samples_split=15, min_samples_leaf=10, max_features=sqrt, max_depth=5 \n",
      "[CV]  n_estimators=182, min_samples_split=15, min_samples_leaf=10, max_features=sqrt, max_depth=5, total=   6.3s\n",
      "[CV] n_estimators=182, min_samples_split=15, min_samples_leaf=10, max_features=sqrt, max_depth=5 \n",
      "[CV]  n_estimators=182, min_samples_split=15, min_samples_leaf=10, max_features=sqrt, max_depth=5, total=   6.1s\n",
      "[CV] n_estimators=182, min_samples_split=15, min_samples_leaf=10, max_features=sqrt, max_depth=5 \n",
      "[CV]  n_estimators=182, min_samples_split=15, min_samples_leaf=10, max_features=sqrt, max_depth=5, total=   6.3s\n",
      "[CV] n_estimators=182, min_samples_split=15, min_samples_leaf=10, max_features=sqrt, max_depth=5 \n",
      "[CV]  n_estimators=182, min_samples_split=15, min_samples_leaf=10, max_features=sqrt, max_depth=5, total=   6.5s\n",
      "[CV] n_estimators=44, min_samples_split=15, min_samples_leaf=1, max_features=sqrt, max_depth=15 \n",
      "[CV]  n_estimators=44, min_samples_split=15, min_samples_leaf=1, max_features=sqrt, max_depth=15, total=   4.1s\n",
      "[CV] n_estimators=44, min_samples_split=15, min_samples_leaf=1, max_features=sqrt, max_depth=15 \n",
      "[CV]  n_estimators=44, min_samples_split=15, min_samples_leaf=1, max_features=sqrt, max_depth=15, total=   4.3s\n",
      "[CV] n_estimators=44, min_samples_split=15, min_samples_leaf=1, max_features=sqrt, max_depth=15 \n",
      "[CV]  n_estimators=44, min_samples_split=15, min_samples_leaf=1, max_features=sqrt, max_depth=15, total=   4.3s\n",
      "[CV] n_estimators=44, min_samples_split=15, min_samples_leaf=1, max_features=sqrt, max_depth=15 \n",
      "[CV]  n_estimators=44, min_samples_split=15, min_samples_leaf=1, max_features=sqrt, max_depth=15, total=   4.4s\n",
      "[CV] n_estimators=44, min_samples_split=15, min_samples_leaf=1, max_features=sqrt, max_depth=15 \n",
      "[CV]  n_estimators=44, min_samples_split=15, min_samples_leaf=1, max_features=sqrt, max_depth=15, total=   4.1s\n",
      "[CV] n_estimators=113, min_samples_split=10, min_samples_leaf=2, max_features=sqrt, max_depth=5 \n",
      "[CV]  n_estimators=113, min_samples_split=10, min_samples_leaf=2, max_features=sqrt, max_depth=5, total=   3.8s\n",
      "[CV] n_estimators=113, min_samples_split=10, min_samples_leaf=2, max_features=sqrt, max_depth=5 \n"
     ]
    },
    {
     "name": "stdout",
     "output_type": "stream",
     "text": [
      "[CV]  n_estimators=113, min_samples_split=10, min_samples_leaf=2, max_features=sqrt, max_depth=5, total=   3.9s\n",
      "[CV] n_estimators=113, min_samples_split=10, min_samples_leaf=2, max_features=sqrt, max_depth=5 \n",
      "[CV]  n_estimators=113, min_samples_split=10, min_samples_leaf=2, max_features=sqrt, max_depth=5, total=   3.9s\n",
      "[CV] n_estimators=113, min_samples_split=10, min_samples_leaf=2, max_features=sqrt, max_depth=5 \n",
      "[CV]  n_estimators=113, min_samples_split=10, min_samples_leaf=2, max_features=sqrt, max_depth=5, total=   3.8s\n",
      "[CV] n_estimators=113, min_samples_split=10, min_samples_leaf=2, max_features=sqrt, max_depth=5 \n",
      "[CV]  n_estimators=113, min_samples_split=10, min_samples_leaf=2, max_features=sqrt, max_depth=5, total=   4.0s\n",
      "[CV] n_estimators=113, min_samples_split=15, min_samples_leaf=1, max_features=auto, max_depth=20 \n",
      "[CV]  n_estimators=113, min_samples_split=15, min_samples_leaf=1, max_features=auto, max_depth=20, total=  40.2s\n",
      "[CV] n_estimators=113, min_samples_split=15, min_samples_leaf=1, max_features=auto, max_depth=20 \n",
      "[CV]  n_estimators=113, min_samples_split=15, min_samples_leaf=1, max_features=auto, max_depth=20, total=  39.8s\n",
      "[CV] n_estimators=113, min_samples_split=15, min_samples_leaf=1, max_features=auto, max_depth=20 \n",
      "[CV]  n_estimators=113, min_samples_split=15, min_samples_leaf=1, max_features=auto, max_depth=20, total=  40.4s\n",
      "[CV] n_estimators=113, min_samples_split=15, min_samples_leaf=1, max_features=auto, max_depth=20 \n",
      "[CV]  n_estimators=113, min_samples_split=15, min_samples_leaf=1, max_features=auto, max_depth=20, total=  40.0s\n",
      "[CV] n_estimators=113, min_samples_split=15, min_samples_leaf=1, max_features=auto, max_depth=20 \n",
      "[CV]  n_estimators=113, min_samples_split=15, min_samples_leaf=1, max_features=auto, max_depth=20, total=  40.1s\n"
     ]
    },
    {
     "name": "stderr",
     "output_type": "stream",
     "text": [
      "[Parallel(n_jobs=1)]: Done  50 out of  50 | elapsed: 14.6min finished\n"
     ]
    },
    {
     "data": {
      "text/plain": [
       "RandomizedSearchCV(cv=5, error_score='raise-deprecating',\n",
       "                   estimator=RandomForestRegressor(bootstrap=True,\n",
       "                                                   criterion='mse',\n",
       "                                                   max_depth=None,\n",
       "                                                   max_features='auto',\n",
       "                                                   max_leaf_nodes=None,\n",
       "                                                   min_impurity_decrease=0.0,\n",
       "                                                   min_impurity_split=None,\n",
       "                                                   min_samples_leaf=1,\n",
       "                                                   min_samples_split=2,\n",
       "                                                   min_weight_fraction_leaf=0.0,\n",
       "                                                   n_estimators=10, n_jobs=None,\n",
       "                                                   oob_score=False,\n",
       "                                                   random_state=N...\n",
       "                   iid='warn', n_iter=10, n_jobs=1,\n",
       "                   param_distributions={'max_depth': [5, 10, 15, 20, 25, 30],\n",
       "                                        'max_features': ['auto', 'sqrt'],\n",
       "                                        'min_samples_leaf': [1, 2, 5, 10],\n",
       "                                        'min_samples_split': [2, 5, 10, 15,\n",
       "                                                              100],\n",
       "                                        'n_estimators': [10, 27, 44, 61, 79, 96,\n",
       "                                                         113, 130, 148, 165,\n",
       "                                                         182, 200]},\n",
       "                   pre_dispatch='2*n_jobs', random_state=42, refit=True,\n",
       "                   return_train_score=False, scoring='neg_mean_squared_error',\n",
       "                   verbose=2)"
      ]
     },
     "execution_count": 145,
     "metadata": {},
     "output_type": "execute_result"
    }
   ],
   "source": [
    "rf_random.fit(X_train,y_train)"
   ]
  },
  {
   "cell_type": "code",
   "execution_count": 146,
   "metadata": {},
   "outputs": [
    {
     "data": {
      "text/plain": [
       "{'n_estimators': 113,\n",
       " 'min_samples_split': 15,\n",
       " 'min_samples_leaf': 1,\n",
       " 'max_features': 'auto',\n",
       " 'max_depth': 20}"
      ]
     },
     "execution_count": 146,
     "metadata": {},
     "output_type": "execute_result"
    }
   ],
   "source": [
    "rf_random.best_params_"
   ]
  },
  {
   "cell_type": "code",
   "execution_count": 147,
   "metadata": {},
   "outputs": [],
   "source": [
    "p=rf_random.predict(X_test)"
   ]
  },
  {
   "cell_type": "code",
   "execution_count": 148,
   "metadata": {},
   "outputs": [
    {
     "data": {
      "text/plain": [
       "0.9560054303220847"
      ]
     },
     "execution_count": 148,
     "metadata": {},
     "output_type": "execute_result"
    }
   ],
   "source": [
    "metrics.r2_score(y_test,p)"
   ]
  },
  {
   "cell_type": "code",
   "execution_count": 149,
   "metadata": {},
   "outputs": [
    {
     "name": "stdout",
     "output_type": "stream",
     "text": [
      "MAE: 4.849055309396628\n",
      "MSE: 65.81910154444036\n",
      "RMSE: 8.112897234924176\n"
     ]
    }
   ],
   "source": [
    "print('MAE:', metrics.mean_absolute_error(y_test,p))\n",
    "print('MSE:', metrics.mean_squared_error(y_test,p))\n",
    "print('RMSE:', np.sqrt(metrics.mean_squared_error(y_test,p)))"
   ]
  },
  {
   "cell_type": "code",
   "execution_count": 150,
   "metadata": {},
   "outputs": [
    {
     "data": {
      "text/html": [
       "<div>\n",
       "<style scoped>\n",
       "    .dataframe tbody tr th:only-of-type {\n",
       "        vertical-align: middle;\n",
       "    }\n",
       "\n",
       "    .dataframe tbody tr th {\n",
       "        vertical-align: top;\n",
       "    }\n",
       "\n",
       "    .dataframe thead th {\n",
       "        text-align: right;\n",
       "    }\n",
       "</style>\n",
       "<table border=\"1\" class=\"dataframe\">\n",
       "  <thead>\n",
       "    <tr style=\"text-align: right;\">\n",
       "      <th></th>\n",
       "      <th>Actual</th>\n",
       "      <th>Predicted</th>\n",
       "    </tr>\n",
       "  </thead>\n",
       "  <tbody>\n",
       "    <tr>\n",
       "      <td>3171990</td>\n",
       "      <td>-5.0</td>\n",
       "      <td>8.646922</td>\n",
       "    </tr>\n",
       "    <tr>\n",
       "      <td>1152655</td>\n",
       "      <td>18.0</td>\n",
       "      <td>0.989541</td>\n",
       "    </tr>\n",
       "    <tr>\n",
       "      <td>4268580</td>\n",
       "      <td>-5.0</td>\n",
       "      <td>3.202062</td>\n",
       "    </tr>\n",
       "    <tr>\n",
       "      <td>2615243</td>\n",
       "      <td>-11.0</td>\n",
       "      <td>11.508111</td>\n",
       "    </tr>\n",
       "    <tr>\n",
       "      <td>2921144</td>\n",
       "      <td>0.0</td>\n",
       "      <td>0.334354</td>\n",
       "    </tr>\n",
       "    <tr>\n",
       "      <td>739991</td>\n",
       "      <td>102.0</td>\n",
       "      <td>93.654697</td>\n",
       "    </tr>\n",
       "    <tr>\n",
       "      <td>1372191</td>\n",
       "      <td>-5.0</td>\n",
       "      <td>-4.035949</td>\n",
       "    </tr>\n",
       "    <tr>\n",
       "      <td>1215176</td>\n",
       "      <td>-6.0</td>\n",
       "      <td>-1.814939</td>\n",
       "    </tr>\n",
       "    <tr>\n",
       "      <td>5458987</td>\n",
       "      <td>-6.0</td>\n",
       "      <td>-4.127692</td>\n",
       "    </tr>\n",
       "    <tr>\n",
       "      <td>2019419</td>\n",
       "      <td>5.0</td>\n",
       "      <td>6.898995</td>\n",
       "    </tr>\n",
       "    <tr>\n",
       "      <td>4443526</td>\n",
       "      <td>12.0</td>\n",
       "      <td>-1.716967</td>\n",
       "    </tr>\n",
       "    <tr>\n",
       "      <td>4975262</td>\n",
       "      <td>-6.0</td>\n",
       "      <td>-3.426725</td>\n",
       "    </tr>\n",
       "    <tr>\n",
       "      <td>5356826</td>\n",
       "      <td>-7.0</td>\n",
       "      <td>-3.655083</td>\n",
       "    </tr>\n",
       "    <tr>\n",
       "      <td>4749018</td>\n",
       "      <td>0.0</td>\n",
       "      <td>-2.409282</td>\n",
       "    </tr>\n",
       "    <tr>\n",
       "      <td>254006</td>\n",
       "      <td>-4.0</td>\n",
       "      <td>-7.920878</td>\n",
       "    </tr>\n",
       "    <tr>\n",
       "      <td>491206</td>\n",
       "      <td>-5.0</td>\n",
       "      <td>-2.659941</td>\n",
       "    </tr>\n",
       "    <tr>\n",
       "      <td>1978450</td>\n",
       "      <td>-6.0</td>\n",
       "      <td>-6.468191</td>\n",
       "    </tr>\n",
       "    <tr>\n",
       "      <td>5774484</td>\n",
       "      <td>161.0</td>\n",
       "      <td>136.131708</td>\n",
       "    </tr>\n",
       "    <tr>\n",
       "      <td>134548</td>\n",
       "      <td>21.0</td>\n",
       "      <td>1.127510</td>\n",
       "    </tr>\n",
       "    <tr>\n",
       "      <td>140128</td>\n",
       "      <td>110.0</td>\n",
       "      <td>106.400317</td>\n",
       "    </tr>\n",
       "    <tr>\n",
       "      <td>3940735</td>\n",
       "      <td>-3.0</td>\n",
       "      <td>-2.940093</td>\n",
       "    </tr>\n",
       "    <tr>\n",
       "      <td>1968144</td>\n",
       "      <td>-3.0</td>\n",
       "      <td>-1.570510</td>\n",
       "    </tr>\n",
       "    <tr>\n",
       "      <td>5349194</td>\n",
       "      <td>0.0</td>\n",
       "      <td>-2.501611</td>\n",
       "    </tr>\n",
       "    <tr>\n",
       "      <td>3255354</td>\n",
       "      <td>-7.0</td>\n",
       "      <td>-2.925207</td>\n",
       "    </tr>\n",
       "    <tr>\n",
       "      <td>186515</td>\n",
       "      <td>-3.0</td>\n",
       "      <td>-3.618669</td>\n",
       "    </tr>\n",
       "    <tr>\n",
       "      <td>4910732</td>\n",
       "      <td>-6.0</td>\n",
       "      <td>-4.926996</td>\n",
       "    </tr>\n",
       "    <tr>\n",
       "      <td>5341888</td>\n",
       "      <td>1.0</td>\n",
       "      <td>3.991331</td>\n",
       "    </tr>\n",
       "    <tr>\n",
       "      <td>4945253</td>\n",
       "      <td>-5.0</td>\n",
       "      <td>-1.853151</td>\n",
       "    </tr>\n",
       "    <tr>\n",
       "      <td>3127463</td>\n",
       "      <td>3.0</td>\n",
       "      <td>0.347629</td>\n",
       "    </tr>\n",
       "    <tr>\n",
       "      <td>4416474</td>\n",
       "      <td>-5.0</td>\n",
       "      <td>-2.346887</td>\n",
       "    </tr>\n",
       "  </tbody>\n",
       "</table>\n",
       "</div>"
      ],
      "text/plain": [
       "         Actual   Predicted\n",
       "3171990    -5.0    8.646922\n",
       "1152655    18.0    0.989541\n",
       "4268580    -5.0    3.202062\n",
       "2615243   -11.0   11.508111\n",
       "2921144     0.0    0.334354\n",
       "739991    102.0   93.654697\n",
       "1372191    -5.0   -4.035949\n",
       "1215176    -6.0   -1.814939\n",
       "5458987    -6.0   -4.127692\n",
       "2019419     5.0    6.898995\n",
       "4443526    12.0   -1.716967\n",
       "4975262    -6.0   -3.426725\n",
       "5356826    -7.0   -3.655083\n",
       "4749018     0.0   -2.409282\n",
       "254006     -4.0   -7.920878\n",
       "491206     -5.0   -2.659941\n",
       "1978450    -6.0   -6.468191\n",
       "5774484   161.0  136.131708\n",
       "134548     21.0    1.127510\n",
       "140128    110.0  106.400317\n",
       "3940735    -3.0   -2.940093\n",
       "1968144    -3.0   -1.570510\n",
       "5349194     0.0   -2.501611\n",
       "3255354    -7.0   -2.925207\n",
       "186515     -3.0   -3.618669\n",
       "4910732    -6.0   -4.926996\n",
       "5341888     1.0    3.991331\n",
       "4945253    -5.0   -1.853151\n",
       "3127463     3.0    0.347629\n",
       "4416474    -5.0   -2.346887"
      ]
     },
     "execution_count": 150,
     "metadata": {},
     "output_type": "execute_result"
    }
   ],
   "source": [
    "zz=pd.DataFrame({'Actual':y_test,'Predicted':p})\n",
    "zz.head(30)"
   ]
  },
  {
   "cell_type": "code",
   "execution_count": 151,
   "metadata": {},
   "outputs": [],
   "source": [
    "from sklearn.ensemble import GradientBoostingRegressor"
   ]
  },
  {
   "cell_type": "code",
   "execution_count": 152,
   "metadata": {},
   "outputs": [],
   "source": [
    "gbr=GradientBoostingRegressor(random_state=0)"
   ]
  },
  {
   "cell_type": "code",
   "execution_count": 153,
   "metadata": {},
   "outputs": [],
   "source": [
    "GBR=gbr.fit(X_train,y_train)"
   ]
  },
  {
   "cell_type": "code",
   "execution_count": 154,
   "metadata": {},
   "outputs": [],
   "source": [
    "pre =GBR.predict(X_test)"
   ]
  },
  {
   "cell_type": "code",
   "execution_count": 155,
   "metadata": {},
   "outputs": [
    {
     "name": "stdout",
     "output_type": "stream",
     "text": [
      "MAE: 4.809210188587205\n",
      "MSE: 54.537641211389875\n",
      "RMSE: 7.384960474599026\n"
     ]
    }
   ],
   "source": [
    "print('MAE:', metrics.mean_absolute_error(y_test,pre))\n",
    "print('MSE:', metrics.mean_squared_error(y_test,pre))\n",
    "print('RMSE:', np.sqrt(metrics.mean_squared_error(y_test,pre)))"
   ]
  },
  {
   "cell_type": "code",
   "execution_count": 156,
   "metadata": {},
   "outputs": [
    {
     "data": {
      "text/plain": [
       "0.9635461438998281"
      ]
     },
     "execution_count": 156,
     "metadata": {},
     "output_type": "execute_result"
    }
   ],
   "source": [
    "metrics.r2_score(y_test,pre)"
   ]
  },
  {
   "cell_type": "code",
   "execution_count": 157,
   "metadata": {},
   "outputs": [
    {
     "data": {
      "text/html": [
       "<div>\n",
       "<style scoped>\n",
       "    .dataframe tbody tr th:only-of-type {\n",
       "        vertical-align: middle;\n",
       "    }\n",
       "\n",
       "    .dataframe tbody tr th {\n",
       "        vertical-align: top;\n",
       "    }\n",
       "\n",
       "    .dataframe thead th {\n",
       "        text-align: right;\n",
       "    }\n",
       "</style>\n",
       "<table border=\"1\" class=\"dataframe\">\n",
       "  <thead>\n",
       "    <tr style=\"text-align: right;\">\n",
       "      <th></th>\n",
       "      <th>Actual</th>\n",
       "      <th>Predicted</th>\n",
       "    </tr>\n",
       "  </thead>\n",
       "  <tbody>\n",
       "    <tr>\n",
       "      <td>3171990</td>\n",
       "      <td>-5.0</td>\n",
       "      <td>6.966567</td>\n",
       "    </tr>\n",
       "    <tr>\n",
       "      <td>1152655</td>\n",
       "      <td>18.0</td>\n",
       "      <td>-0.035525</td>\n",
       "    </tr>\n",
       "    <tr>\n",
       "      <td>4268580</td>\n",
       "      <td>-5.0</td>\n",
       "      <td>3.829485</td>\n",
       "    </tr>\n",
       "    <tr>\n",
       "      <td>2615243</td>\n",
       "      <td>-11.0</td>\n",
       "      <td>-3.987743</td>\n",
       "    </tr>\n",
       "    <tr>\n",
       "      <td>2921144</td>\n",
       "      <td>0.0</td>\n",
       "      <td>-1.715599</td>\n",
       "    </tr>\n",
       "    <tr>\n",
       "      <td>739991</td>\n",
       "      <td>102.0</td>\n",
       "      <td>94.549115</td>\n",
       "    </tr>\n",
       "    <tr>\n",
       "      <td>1372191</td>\n",
       "      <td>-5.0</td>\n",
       "      <td>-4.266129</td>\n",
       "    </tr>\n",
       "    <tr>\n",
       "      <td>1215176</td>\n",
       "      <td>-6.0</td>\n",
       "      <td>-2.174732</td>\n",
       "    </tr>\n",
       "    <tr>\n",
       "      <td>5458987</td>\n",
       "      <td>-6.0</td>\n",
       "      <td>-2.741759</td>\n",
       "    </tr>\n",
       "    <tr>\n",
       "      <td>2019419</td>\n",
       "      <td>5.0</td>\n",
       "      <td>8.733896</td>\n",
       "    </tr>\n",
       "    <tr>\n",
       "      <td>4443526</td>\n",
       "      <td>12.0</td>\n",
       "      <td>-2.363165</td>\n",
       "    </tr>\n",
       "    <tr>\n",
       "      <td>4975262</td>\n",
       "      <td>-6.0</td>\n",
       "      <td>-4.014577</td>\n",
       "    </tr>\n",
       "    <tr>\n",
       "      <td>5356826</td>\n",
       "      <td>-7.0</td>\n",
       "      <td>-4.679300</td>\n",
       "    </tr>\n",
       "    <tr>\n",
       "      <td>4749018</td>\n",
       "      <td>0.0</td>\n",
       "      <td>-2.625225</td>\n",
       "    </tr>\n",
       "    <tr>\n",
       "      <td>254006</td>\n",
       "      <td>-4.0</td>\n",
       "      <td>-5.414260</td>\n",
       "    </tr>\n",
       "    <tr>\n",
       "      <td>491206</td>\n",
       "      <td>-5.0</td>\n",
       "      <td>-3.694620</td>\n",
       "    </tr>\n",
       "    <tr>\n",
       "      <td>1978450</td>\n",
       "      <td>-6.0</td>\n",
       "      <td>-4.437063</td>\n",
       "    </tr>\n",
       "    <tr>\n",
       "      <td>5774484</td>\n",
       "      <td>161.0</td>\n",
       "      <td>140.994784</td>\n",
       "    </tr>\n",
       "    <tr>\n",
       "      <td>134548</td>\n",
       "      <td>21.0</td>\n",
       "      <td>1.128815</td>\n",
       "    </tr>\n",
       "    <tr>\n",
       "      <td>140128</td>\n",
       "      <td>110.0</td>\n",
       "      <td>116.482728</td>\n",
       "    </tr>\n",
       "  </tbody>\n",
       "</table>\n",
       "</div>"
      ],
      "text/plain": [
       "         Actual   Predicted\n",
       "3171990    -5.0    6.966567\n",
       "1152655    18.0   -0.035525\n",
       "4268580    -5.0    3.829485\n",
       "2615243   -11.0   -3.987743\n",
       "2921144     0.0   -1.715599\n",
       "739991    102.0   94.549115\n",
       "1372191    -5.0   -4.266129\n",
       "1215176    -6.0   -2.174732\n",
       "5458987    -6.0   -2.741759\n",
       "2019419     5.0    8.733896\n",
       "4443526    12.0   -2.363165\n",
       "4975262    -6.0   -4.014577\n",
       "5356826    -7.0   -4.679300\n",
       "4749018     0.0   -2.625225\n",
       "254006     -4.0   -5.414260\n",
       "491206     -5.0   -3.694620\n",
       "1978450    -6.0   -4.437063\n",
       "5774484   161.0  140.994784\n",
       "134548     21.0    1.128815\n",
       "140128    110.0  116.482728"
      ]
     },
     "execution_count": 157,
     "metadata": {},
     "output_type": "execute_result"
    }
   ],
   "source": [
    "gg=pd.DataFrame({'Actual':y_test,'Predicted':pre})\n",
    "gg.head(20)"
   ]
  },
  {
   "cell_type": "code",
   "execution_count": 158,
   "metadata": {},
   "outputs": [],
   "source": [
    "def predict(MONTH, DAY,DAY_OF_WEEK,AIRLINE,SCHEDULED_DEPARTURE,DEPARTURE_TIME,TAXI_OUT,\n",
    "       DISTANCE,TAXI_IN,SCHEDULED_ARRIVAL, ARRIVAL_DELAY):\n",
    "    \n",
    "    x= np.zeros(len(X.columns))\n",
    "    x[0] = MONTH\n",
    "    x[1] = DAY\n",
    "    x[2] = DAY_OF_WEEK\n",
    "    x[3] = AIRLINE\n",
    "    x[4] = SCHEDULED_DEPARTURE\n",
    "    x[5] = DEPARTURE_TIME\n",
    "    x[6] = TAXI_OUT\n",
    "    x[7] = DISTANCE\n",
    "    x[8] = TAXI_IN\n",
    "    x[9] = SCHEDULED_ARRIVAL\n",
    "    x[10] = ARRIVAL_DELAY\n",
    "  \n",
    "   \n",
    "        \n",
    "\n",
    "     \n",
    "    return gbr.predict([x])[0]"
   ]
  },
  {
   "cell_type": "code",
   "execution_count": 159,
   "metadata": {},
   "outputs": [
    {
     "data": {
      "text/plain": [
       "-2.1441372406642105"
      ]
     },
     "execution_count": 159,
     "metadata": {},
     "output_type": "execute_result"
    }
   ],
   "source": [
    "predict(1,27,2,10,735,733.0,29.0,622,18.0,850,8.0)"
   ]
  },
  {
   "cell_type": "code",
   "execution_count": 87,
   "metadata": {},
   "outputs": [
    {
     "data": {
      "text/plain": [
       "MONTH                   12\n",
       "DAY                     22\n",
       "DAY_OF_WEEK              2\n",
       "AIRLINE                 UA\n",
       "SCHEDULED_DEPARTURE    743\n",
       "DEPARTURE_TIME         746\n",
       "DEPARTURE_DELAY          3\n",
       "TAXI_OUT                18\n",
       "DISTANCE               964\n",
       "TAXI_IN                 10\n",
       "SCHEDULED_ARRIVAL      940\n",
       "ARRIVAL_DELAY           -1\n",
       "Name: 5669232, dtype: object"
      ]
     },
     "execution_count": 87,
     "metadata": {},
     "output_type": "execute_result"
    }
   ],
   "source": [
    "flights.loc[5669232,:]"
   ]
  },
  {
   "cell_type": "code",
   "execution_count": 88,
   "metadata": {},
   "outputs": [
    {
     "data": {
      "text/plain": [
       "0.5510525478710845"
      ]
     },
     "execution_count": 88,
     "metadata": {},
     "output_type": "execute_result"
    }
   ],
   "source": [
    "predict(12,22,2,743,746.0,18.0,964,10.0,940,-1.0,'AIRLINE_UA')"
   ]
  },
  {
   "cell_type": "code",
   "execution_count": 160,
   "metadata": {},
   "outputs": [
    {
     "data": {
      "text/plain": [
       "30.036990871936663"
      ]
     },
     "execution_count": 160,
     "metadata": {},
     "output_type": "execute_result"
    }
   ],
   "source": [
    "predict(4,26,7,7,1552,1633.0,12.0,522,9.0,1738,28.0)"
   ]
  },
  {
   "cell_type": "code",
   "execution_count": 161,
   "metadata": {},
   "outputs": [],
   "source": [
    "import pickle\n",
    "with open ('zz.pickle','wb') as f:\n",
    "    pickle.dump(gbr,f)"
   ]
  },
  {
   "cell_type": "code",
   "execution_count": null,
   "metadata": {},
   "outputs": [],
   "source": []
  }
 ],
 "metadata": {
  "kernelspec": {
   "display_name": "Python 3",
   "language": "python",
   "name": "python3"
  },
  "language_info": {
   "codemirror_mode": {
    "name": "ipython",
    "version": 3
   },
   "file_extension": ".py",
   "mimetype": "text/x-python",
   "name": "python",
   "nbconvert_exporter": "python",
   "pygments_lexer": "ipython3",
   "version": "3.7.6"
  }
 },
 "nbformat": 4,
 "nbformat_minor": 2
}
